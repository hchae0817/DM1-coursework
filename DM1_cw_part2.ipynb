{
 "cells": [
  {
   "cell_type": "markdown",
   "id": "14075e7b",
   "metadata": {},
   "source": [
    "## Part 2"
   ]
  },
  {
   "cell_type": "markdown",
   "id": "030beddf",
   "metadata": {},
   "source": [
    "## [10 points] \n",
    "### Compute the mean, standard deviation, minimum, and maximum value for each attribute. Round the mean and standard deviation to the closest integers."
   ]
  },
  {
   "cell_type": "code",
   "execution_count": null,
   "id": "c8b0e051",
   "metadata": {},
   "outputs": [],
   "source": [
    "# Part 2: Cluster Analysis\n",
    "\n",
    "import numpy as np\n",
    "import pandas as pd\n",
    "\n",
    "# Return a pandas dataframe containing the data set that needs to be extracted from the data_file.\n",
    "# data_file will be populated with the string 'wholesale_customers.csv'.\n",
    "def read_csv_2(data_file):\n",
    "    data_file = pd.read_csv(data_file)\n",
    "    data_file.drop(columns = ['Channel','Region'], inplace = True)\n",
    "    return data_file"
   ]
  },
  {
   "cell_type": "code",
   "execution_count": null,
   "id": "1fae7889",
   "metadata": {},
   "outputs": [],
   "source": [
    "read_csv_2('wholesale_customers.csv')"
   ]
  },
  {
   "cell_type": "code",
   "execution_count": null,
   "id": "79b69d27",
   "metadata": {},
   "outputs": [],
   "source": [
    "df = read_csv_2('wholesale_customers.csv')\n",
    "describe_df = df.describe()\n",
    "describe_df"
   ]
  },
  {
   "cell_type": "code",
   "execution_count": null,
   "id": "41ea0965",
   "metadata": {},
   "outputs": [],
   "source": [
    "# Return a pandas dataframe with summary statistics of the data.\n",
    "# Namely, 'mean', 'std' (standard deviation), 'min', and 'max' for each attribute.\n",
    "# These strings index the new dataframe columns. \n",
    "# Each row should correspond to an attribute in the original data and be indexed with the attribute name.\n",
    "def summary_statistics(df):\n",
    "    describe_df = df.describe()\n",
    "    describe_df.drop(describe_df.index[[0,4,5,6]], inplace=True)\n",
    "    tr_df = describe_df.transpose()\n",
    "    return round(tr_df) # rounded to closest integer"
   ]
  },
  {
   "cell_type": "code",
   "execution_count": null,
   "id": "9633b297",
   "metadata": {},
   "outputs": [],
   "source": [
    "summary_statistics(df)"
   ]
  },
  {
   "cell_type": "code",
   "execution_count": null,
   "id": "c9f4ea9a",
   "metadata": {},
   "outputs": [],
   "source": [
    "def standardize(df):\n",
    "    normalized_df = (df - df.mean()) / df.std()\n",
    "    normalized_df\n",
    "    return normalized_df"
   ]
  },
  {
   "cell_type": "code",
   "execution_count": null,
   "id": "3a80c147",
   "metadata": {},
   "outputs": [],
   "source": [
    "standardize(df)"
   ]
  },
  {
   "cell_type": "markdown",
   "id": "da36a76d",
   "metadata": {},
   "source": [
    "## [20 points] \n",
    "### Divide the data points into k clusters, for k ∈ {3, 5, 10}, using kmeans and agglomerative hierarchical clustering.\n",
    "\n",
    "### Because the performance of kmeans (e.g. number of iterations) is significantly affected by the initial cluster center selection, repeat 10 executions of kmeans for each k value. Next, standardize each attribute value by subtracting with the mean and then dividing with the standard deviation for that attribute. Repeat the previous kmeans and agglomerative hierarchical clustering executions with the standardized data set. Identify which run resulted in the best set of clusters using the Silhouette score as your evaluation metric. \n",
    "\n",
    "### Visualize the best set of clusters computed in the previous question. For this, construct a scatterplot for each pair of attributes using Pyplot. Therefore, 15 scatter plots should be constructed in total. Different clusters should appear with different colors in each scatter plot. Note that these plots could be used to manually assess how well the clusters separate the data points."
   ]
  },
  {
   "cell_type": "code",
   "execution_count": null,
   "id": "65378fb7",
   "metadata": {},
   "outputs": [],
   "source": [
    "# Given a dataframe df and a number of clusters k, return a pandas series y\n",
    "# specifying an assignment of instances to clusters, using kmeans.\n",
    "# y should contain values in the set {0,1,...,k-1}.\n",
    "\n",
    "from sklearn.cluster import KMeans\n",
    "\n",
    "def kmeans(df, k):\n",
    "    kmeans = KMeans(n_clusters = k, init = 'random').fit(df)\n",
    "    #centroids = kmeans.cluster_centers_\n",
    "    return pd.Series(kmeans.labels_)"
   ]
  },
  {
   "cell_type": "code",
   "execution_count": null,
   "id": "babe50b7",
   "metadata": {},
   "outputs": [],
   "source": [
    "# Given a dataframe df and a number of clusters k, return a pandas series y\n",
    "# specifying an assignment of instances to clusters, using kmeans++.\n",
    "# y should contain values from the set {0,1,...,k-1}.\n",
    "def kmeans_plus(df, k):\n",
    "    kmeans = KMeans(n_clusters = k).fit(df)\n",
    "    #centroids = kmeans.cluster_centers_\n",
    "    return pd.Series(kmeans.labels_)"
   ]
  },
  {
   "cell_type": "code",
   "execution_count": null,
   "id": "4f423770",
   "metadata": {},
   "outputs": [],
   "source": [
    "df = read_csv_2('wholesale_customers.csv')\n",
    "k = 5\n",
    "kmeans(df, k)"
   ]
  },
  {
   "cell_type": "code",
   "execution_count": null,
   "id": "73e4dd39",
   "metadata": {},
   "outputs": [],
   "source": [
    "# Given a dataframe df and a number of clusters k, return a pandas series y\n",
    "# specifying an assignment of instances to clusters, using agglomerative hierarchical clustering.\n",
    "# y should contain values from the set {0,1,...,k-1}.\n",
    "\n",
    "from sklearn.cluster import AgglomerativeClustering\n",
    "\n",
    "def agglomerative(df, k):\n",
    "    cluster = AgglomerativeClustering(n_clusters = k, affinity='euclidean', linkage='ward')\n",
    "    return pd.Series(cluster.fit_predict(df))"
   ]
  },
  {
   "cell_type": "code",
   "execution_count": null,
   "id": "b0a70a86",
   "metadata": {},
   "outputs": [],
   "source": [
    "k = 5\n",
    "agglomerative(df, k)"
   ]
  },
  {
   "cell_type": "code",
   "execution_count": null,
   "id": "23ca256b",
   "metadata": {},
   "outputs": [],
   "source": [
    "# Given a data set X and an assignment to clusters y\n",
    "# return the Solhouette score of the clustering.\n",
    "\n",
    "from sklearn.metrics import silhouette_score\n",
    "\n",
    "def clustering_score(X,y):\n",
    "    score = silhouette_score(X, y, metric='euclidean')\n",
    "    return score"
   ]
  },
  {
   "cell_type": "code",
   "execution_count": null,
   "id": "e1a4ebe2",
   "metadata": {},
   "outputs": [],
   "source": [
    "clustering_score(df,kmeans(df, k))\n",
    "clustering_score(df,agglomerative(df, k))"
   ]
  },
  {
   "cell_type": "code",
   "execution_count": null,
   "id": "1d91d036",
   "metadata": {},
   "outputs": [],
   "source": [
    "# Perform the cluster evaluation described in the coursework description.\n",
    "# Given the dataframe df with the data to be clustered,\n",
    "\n",
    "# return a pandas dataframe with an entry for each clustering algorithm execution.\n",
    "# Each entry should contain the: \n",
    "# 'Algorithm' name: either 'Kmeans' or 'Agglomerative', \n",
    "# 'data' type: either 'Original' or 'Standardized',\n",
    "# 'k': the number of clusters produced,\n",
    "# 'Silhouette Score': for evaluating the resulting set of clusters.\n",
    "\n",
    "# evaluation is done in kmeans(df,k) as n_init is initialised as 10 as a default \n",
    "\n",
    "# 12 rows \n",
    "\n",
    "def cluster_evaluation(df):\n",
    "    data = [['Kmeans', 'Original', 3, clustering_score(df,kmeans(df, 3))],\n",
    "            ['Kmeans', 'Standardized', 3, clustering_score(standardize(df),kmeans(standardize(df), 3))],\n",
    "            \n",
    "            ['Kmeans', 'Original', 5, clustering_score(df,kmeans(standardize(df), 5))],\n",
    "            ['Kmeans', 'Standardized', 5, clustering_score(standardize(df),kmeans(standardize(df), 5))],\n",
    "            \n",
    "            ['Kmeans', 'Original', 10, clustering_score(df,kmeans(standardize(df), 10))],\n",
    "            ['Kmeans', 'Standardized', 10, clustering_score(standardize(df),kmeans(standardize(df), 10))],\n",
    "            \n",
    "            ['Agglomerative', 'Original', 3, clustering_score(df,agglomerative(df, 3))],\n",
    "            ['Agglomerative', 'Standardized', 3, clustering_score(standardize(df),agglomerative(standardize(df), 3))],\n",
    "            \n",
    "            ['Agglomerative', 'Original', 5, clustering_score(df,agglomerative(df, 5))],\n",
    "            ['Agglomerative', 'Standardized', 5, clustering_score(standardize(df),agglomerative(standardize(df), 5))],\n",
    "            \n",
    "            ['Agglomerative', 'Original', 10, clustering_score(df,agglomerative(df, 10))],\n",
    "            ['Agglomerative', 'Standardized', 10, clustering_score(standardize(df),agglomerative(standardize(df), 10))]]\n",
    " \n",
    "    # Create the pandas DataFrame\n",
    "    rdf = pd.DataFrame(data, columns = ['Algorithm', 'data', 'k', 'Silhouette Score'])\n",
    "    \n",
    "    return rdf"
   ]
  },
  {
   "cell_type": "code",
   "execution_count": null,
   "id": "70c5029c",
   "metadata": {},
   "outputs": [],
   "source": [
    "rdf = cluster_evaluation(df)\n",
    "rdf"
   ]
  },
  {
   "cell_type": "code",
   "execution_count": null,
   "id": "3a40bcd0",
   "metadata": {},
   "outputs": [],
   "source": [
    "# Given the performance evaluation dataframe produced by the cluster_evaluation function,\n",
    "# return the best computed Silhouette score.\n",
    "def best_clustering_score(rdf):\n",
    "    # Identify which run resulted in the best set of clusters using the Silhouette score as your evaluation metric.\n",
    "    bestScore = rdf['Silhouette Score'].max()\n",
    "    return bestScore\n",
    "\n",
    "best_clustering_score(rdf)"
   ]
  },
  {
   "cell_type": "code",
   "execution_count": null,
   "id": "d28def57",
   "metadata": {},
   "outputs": [],
   "source": [
    "labels = kmeans(df,3)\n",
    "labels"
   ]
  },
  {
   "cell_type": "code",
   "execution_count": null,
   "id": "776594d8",
   "metadata": {},
   "outputs": [],
   "source": [
    "# Run some clustering algorithm of your choice with k=3 and generate a scatter plot for each pair of attributes.\n",
    "# Data points in different clusters should appear with different colors.\n",
    "\n",
    "# Visualize the best set of clusters computed in the previous question. \n",
    "# For this, construct a scatterplot for each pair of attributes using Pyplot. \n",
    "# Therefore, 15 scatter plots should be constructed in total. \n",
    "# Different clusters should appear with different colors in each scatter plot.\n",
    "# Note that these plots could be used to manually assess how well the clusters separate the data points.\n",
    "\n",
    "import numpy as np\n",
    "import matplotlib.pyplot as plt\n",
    "from itertools import combinations\n",
    "\n",
    "\n",
    "def scatter_plots(df):\n",
    "\n",
    "    list_pairs = list(combinations(df.columns,2))\n",
    "    colors = (\"red\", \"green\", \"blue\")\n",
    "\n",
    "    labels = kmeans(df,3)\n",
    "\n",
    "    label_0 = df[labels == 0]\n",
    "    label_1 = df[labels == 1]\n",
    "    label_2 = df[labels == 2]\n",
    "\n",
    "    for list_pair in list_pairs:\n",
    "    \n",
    "        # Create data\n",
    "        g1 = (label_0[list_pair[0]], label_0[list_pair[1]])\n",
    "        g2 = (label_1[list_pair[0]], label_1[list_pair[1]])\n",
    "        g3 = (label_2[list_pair[0]], label_2[list_pair[1]])\n",
    "    \n",
    "        data = (g1,g2,g3)\n",
    "\n",
    "        for i in range(len(data)):\n",
    "            plt.xlabel(list_pair[0])\n",
    "            plt.ylabel(list_pair[1])\n",
    "            plt.scatter(data[i][0], data[i][1], c = colors[i])\n",
    "            \n",
    "        # one graph with all the datas from g1,g2,g3\n",
    "        plt.title('Scatter plot')\n",
    "        plt.show()"
   ]
  },
  {
   "cell_type": "code",
   "execution_count": null,
   "id": "c54827b5",
   "metadata": {},
   "outputs": [],
   "source": [
    "scatter_plots(df)"
   ]
  }
 ],
 "metadata": {
  "kernelspec": {
   "display_name": "py3",
   "language": "python",
   "name": "py3"
  },
  "language_info": {
   "codemirror_mode": {
    "name": "ipython",
    "version": 3
   },
   "file_extension": ".py",
   "mimetype": "text/x-python",
   "name": "python",
   "nbconvert_exporter": "python",
   "pygments_lexer": "ipython3",
   "version": "3.10.0"
  }
 },
 "nbformat": 4,
 "nbformat_minor": 5
}
